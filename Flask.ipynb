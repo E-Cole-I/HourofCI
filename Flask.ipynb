{
 "cells": [
  {
   "cell_type": "markdown",
   "metadata": {},
   "source": [
    "## Flask API for Hour of CI Answer Bank"
   ]
  },
  {
   "cell_type": "markdown",
   "metadata": {},
   "source": [
    "This script sets up an API answer bank for the Hour of CI project so answers can be retrieved for validation purposes without giving direct access to the students learning the material. "
   ]
  },
  {
   "cell_type": "code",
   "execution_count": 1,
   "metadata": {},
   "outputs": [],
   "source": [
    "from flask import Flask, request, render_template\n",
    "from flask_restful import Resource, Api\n",
    "from flask import Flask,jsonify,json\n",
    "import hashlib"
   ]
  },
  {
   "cell_type": "markdown",
   "metadata": {},
   "source": [
    "### Flask App"
   ]
  },
  {
   "cell_type": "markdown",
   "metadata": {},
   "source": [
    "####  Answer Catalog\n"
   ]
  },
  {
   "cell_type": "code",
   "execution_count": 2,
   "metadata": {},
   "outputs": [],
   "source": [
    "# Lesson\n",
    "    # Beginner or advanced\n",
    "        # quesition\n",
    "\n",
    "answer_catalog = {\n",
    "                  # Lesson Indentation\n",
    "                  \"gateway\":\n",
    "                      # Beginner versus advanced indentation (No Adv for gateway)\n",
    "                     {\n",
    "                      \"beginner\":\n",
    "                         # Indentation for Questions and Answers \n",
    "                         {\n",
    "                          \"Q1\":'Giving someone directions in person.',\n",
    "                          \"Q2\":\"Paying for a meal with cash.\", \n",
    "                          \"Q3\":\"Purchasing a city bus ticket in person\",\n",
    "                          \"Q4\": \"13\",\n",
    "                          \"Q5\": \"88\",\n",
    "                          \"Q6\": \"volume\",\n",
    "                          \"Q7\": \"13\",\n",
    "                          \"Q8\": \"variety\",\n",
    "                          \"Q9\": \"velocity\"\n",
    "                           }\n",
    "                      },\n",
    "                # Lesson Indentation\n",
    "                  \"parallel_programming\": \n",
    "                       # Beginner versus advanced indentation\n",
    "                      {\n",
    "                       \"beginner\":\n",
    "                          # Indentation for Questions and Answers \n",
    "                          {\n",
    "                          \"Q1\":'[1,2,3,4,5]',\n",
    "                          \"Q2\":\"10\", \n",
    "                          \"Q3\":\"eating cheesecake\",\n",
    "                          \"Q4\": \"1.00\",\n",
    "                          \"Q5\":\"cyberinfrastructure\"\n",
    "                           },\n",
    "                       \"advanced\":\n",
    "                           {\n",
    "                          \"Q1\":'seville',\n",
    "                          \"Q2\":\"35\", \n",
    "                          \"Q3\":\"eating cheesecake\",\n",
    "                          \"Q4\": \"1.20\",\n",
    "                          \"Q5\":\"cyberinfrastructure\"\n",
    "                           },\n",
    "                      }\n",
    "                     }"
   ]
  },
  {
   "cell_type": "markdown",
   "metadata": {},
   "source": [
    "##### Hashed Answer Catalog\n",
    "\n",
    "This was done so we could have lists as asnwers since they cannot be a part of the url and need to be hashed. "
   ]
  },
  {
   "cell_type": "code",
   "execution_count": 3,
   "metadata": {},
   "outputs": [
    {
     "name": "stdout",
     "output_type": "stream",
     "text": [
      "{'gateway': {'beginner': {'Q1': 'c62040943e0d0d3ba840788f89c68a6bf839c408209c578ed0af37733713b522', 'Q2': 'ac88c6e3452c7540d7df76d079ebff7b99752a3a4407f4def2961c22d14e503f', 'Q3': 'e73b2bc4043553b458eaa713735ba7a25190d747ee6f4db2dabac00817070db8', 'Q4': '3fdba35f04dc8c462986c992bcf875546257113072a909c162f7e470e581e278', 'Q5': '8b940be7fb78aaa6b6567dd7a3987996947460df1c668e698eb92ca77e425349', 'Q6': '62d7a6b1211d627650e2bf0c869b69b564e2cd74290ae1dd78ae4b5e20b0cfe7', 'Q7': '3fdba35f04dc8c462986c992bcf875546257113072a909c162f7e470e581e278', 'Q8': 'b530f329d65f246114bd293232aa31ec383289b020059c7628942ee9dcd55f9b', 'Q9': '7d2857159e3091222d89dc3a870f741fa522997ee31f6557fc29a7cd4387ddac'}}, 'parallel_programming': {'beginner': {'Q1': 'f5baf0e4336fd53b4c82b453ece859868475160d36f22e9551a0e9b10ac9cc00', 'Q2': '4a44dc15364204a80fe80e9039455cc1608281820fe2b24f1e5233ade6af1dd5', 'Q3': '7391b1eb195e2636fb66215bd7e893c665c6c00f2d4f4b2e68ecd6675db3492c', 'Q4': 'cf9dcf6da8a82be1335c398a4005def7ee3a53d4698c59dbc6b2b14e72d1263c', 'Q5': 'f91c5ef3017e7339963efb516609bc580cdd5c8ecf2714ff77dfcac07e4e5117'}, 'advanced': {'Q1': '8d51addd113608ec37781c46eb2aad4d81cc6ccab48fd047410f098fe45e97f0', 'Q2': '9f14025af0065b30e47e23ebb3b491d39ae8ed17d33739e5ff3827ffb3634953', 'Q3': '7391b1eb195e2636fb66215bd7e893c665c6c00f2d4f4b2e68ecd6675db3492c', 'Q4': 'e06a321148a8ed1ab42a0653286ddf1f752689f0d2fa4d449afab0baa6006136', 'Q5': 'f91c5ef3017e7339963efb516609bc580cdd5c8ecf2714ff77dfcac07e4e5117'}}}\n"
     ]
    }
   ],
   "source": [
    "# Reassign not to overwrite the original answer catalog\n",
    "hash_answer_catalog = answer_catalog\n",
    "\n",
    "# Loop through three levels of the dictionary to hash the answers and alter the hash_answer_catalog\n",
    "for i in hash_answer_catalog:\n",
    "    for j in hash_answer_catalog[i]:\n",
    "        for h in hash_answer_catalog[i][j]:\n",
    "            # Make the answers lowercase to make sure this isnt case sensitive\n",
    "            lower_answer = hash_answer_catalog[i][j][h].lower()\n",
    "            \n",
    "            # Hash the answer using the built-in hash function in Python \n",
    "            lower_answer=lower_answer.encode('utf-8')\n",
    "            hash_object = hashlib.sha256(lower_answer)\n",
    "            hex_dig = hash_object.hexdigest()\n",
    "            \n",
    "            \n",
    "            # Reassign the answer in the hash_answer_catalog\n",
    "            hash_answer_catalog[i][j][h] = hex_dig\n",
    "\n",
    "print(hash_answer_catalog)\n",
    "\n",
    "\n"
   ]
  },
  {
   "cell_type": "code",
   "execution_count": null,
   "metadata": {},
   "outputs": [
    {
     "name": "stdout",
     "output_type": "stream",
     "text": [
      " * Serving Flask app \"__main__\" (lazy loading)\n",
      " * Environment: production\n",
      "   WARNING: Do not use the development server in a production environment.\n",
      "   Use a production WSGI server instead.\n",
      " * Debug mode: off\n"
     ]
    },
    {
     "name": "stderr",
     "output_type": "stream",
     "text": [
      " * Running on http://0.0.0.0:5011/ (Press CTRL+C to quit)\n"
     ]
    }
   ],
   "source": [
    "app = Flask(__name__)\n",
    "api = Api(app)\n",
    "\n",
    "# Creates a route for each specified hashed answer\n",
    "class answer_bank(Resource):\n",
    "    def get(self, lesson, level, q_id, answer):\n",
    "        if str(hash_answer_catalog[lesson][level][q_id]) == str(answer):\n",
    "            result = True\n",
    "        else:\n",
    "            result = False\n",
    "        return result\n",
    "\n",
    "    \n",
    "\n",
    "@app.route('/ping')\n",
    "def welcome():\n",
    "    return render_template('ping_alive.html')  # render a template\n",
    "\n",
    "# Adds pages with desired routes. Basic at the moment\n",
    "api.add_resource(answer_bank, '/<lesson>/<level>/<q_id>/<answer>') # Route_1\n",
    "\n",
    "\n",
    "\n",
    "\n",
    "if __name__ == '__main__':\n",
    "    # If you try visiting the host manually to test, you have to use 127.0.0.1 or localhost instead of 0.0.0.0\n",
    "    # For some reason if the API is not working, try switching the port number here and in Valid section of Hourofci script.\n",
    "     app.run(host='0.0.0.0', port='5011')"
   ]
  },
  {
   "cell_type": "code",
   "execution_count": null,
   "metadata": {},
   "outputs": [],
   "source": []
  },
  {
   "cell_type": "code",
   "execution_count": null,
   "metadata": {},
   "outputs": [],
   "source": []
  },
  {
   "cell_type": "code",
   "execution_count": null,
   "metadata": {},
   "outputs": [],
   "source": []
  },
  {
   "cell_type": "code",
   "execution_count": null,
   "metadata": {},
   "outputs": [],
   "source": []
  }
 ],
 "metadata": {
  "kernelspec": {
   "display_name": "Python 3",
   "language": "python",
   "name": "python3"
  },
  "language_info": {
   "codemirror_mode": {
    "name": "ipython",
    "version": 3
   },
   "file_extension": ".py",
   "mimetype": "text/x-python",
   "name": "python",
   "nbconvert_exporter": "python",
   "pygments_lexer": "ipython3",
   "version": "3.7.0"
  }
 },
 "nbformat": 4,
 "nbformat_minor": 2
}
