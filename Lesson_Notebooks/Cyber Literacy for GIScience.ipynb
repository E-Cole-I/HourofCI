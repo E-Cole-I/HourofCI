{
 "cells": [
  {
   "cell_type": "markdown",
   "metadata": {},
   "source": [
    "![Hippo](Hippo_2.png)\n",
    "\n",
    "# Welcome to the World of Cyberinfrastructure"
   ]
  },
  {
   "cell_type": "markdown",
   "metadata": {},
   "source": [
    "## Cyber Literacy for Geographic Information Science\n",
    "<br>\n",
    "<!-- LO # 5. Reflect on your own cyber literacy, here is where we introduce it -->\n",
    "\n",
    "In this lesson we are learning about the world of cyberinfrastructure and how it connects to the world around us. So far we have learned that cyberinfrastructure provides the technological connection for communities, it is quite literally the glue between technology and science communities. So how do we use it? To become **_cyberinfrastructure users_** requires new knowledge and skills. We call this **_cyber literacy_** and we will focus on the community that tries to capture the world around us in a computer or **_geographic information science_** the 17+ lessons in the Hour of CI will develop **_cyber literacy for GIScience_**, which is applicable to a wide variety of science communities from social to environmental sciences."
   ]
  },
  {
   "cell_type": "markdown",
   "metadata": {},
   "source": [
    "## Computational Science and GIScience\n",
    "<br>\n",
    "\n",
    "If cyberinfrastructure is the middle layer between base technologies and communities, then one community that is everywhere in the real world is geospatial sciences, because they focus on the study of the world and its inhabitants. Another community is computational sciences, because they focus on the study of computation and how it can advance science and society.\n",
    "\n",
    "<!-- Need to clean this up, but basically connect CI to GISc to setup CL4G -->\n",
    "\n",
    "! Image of computational science circle\n",
    "define computational science\n",
    "! Image of giscience circle\n",
    "define giscience"
   ]
  },
  {
   "cell_type": "markdown",
   "metadata": {},
   "source": [
    "## The Eight Areas of Cyber Literacy\n",
    "\n",
    "<br>\n",
    "\n",
    "<!-- can we do a 'hover over' of each area that when they mouse-over the area that it pops up a little window/textbox that defines/explains it? --> \n",
    "\n",
    "<!-- Once the beginner lessons are done we will put in some foreshadowing/hints/cues that link this lesson to those lessons. We don't know what they are yet though ... :) -->\n",
    "\n",
    "![GIS](GIS.png)\n"
   ]
  },
  {
   "cell_type": "markdown",
   "metadata": {},
   "source": [
    "### Eight Areas\n",
    "* Spatial Modeling & Analytics\n",
    "* Spatial Thinking\n",
    "* Geospatial Data\n",
    "* Interdisciplinary Communication\n",
    "* Computational Thinking\n",
    "* Big Data\n",
    "* Cyberinfrastructure\n",
    "* Parallel Computation\n"
   ]
  },
  {
   "cell_type": "markdown",
   "metadata": {},
   "source": [
    "### Click next to move onto the next section"
   ]
  },
  {
   "cell_type": "code",
   "execution_count": 1,
   "metadata": {},
   "outputs": [
    {
     "data": {
      "application/vnd.jupyter.widget-view+json": {
       "model_id": "00fd244e7e274c23bd648acbd76d0649",
       "version_major": 2,
       "version_minor": 0
      },
      "text/plain": [
       "Button(description='Next', layout=Layout(height='120px', margin='5% 25% 5% 25%', width='350px'), style=ButtonS…"
      ]
     },
     "metadata": {},
     "output_type": "display_data"
    }
   ],
   "source": [
    "import hourofci\n",
    "hourofci.theSearch()"
   ]
  }
 ],
 "metadata": {
  "kernelspec": {
   "display_name": "Python 3",
   "language": "python",
   "name": "python3"
  },
  "language_info": {
   "codemirror_mode": {
    "name": "ipython",
    "version": 3
   },
   "file_extension": ".py",
   "mimetype": "text/x-python",
   "name": "python",
   "nbconvert_exporter": "python",
   "pygments_lexer": "ipython3",
   "version": "3.7.0"
  }
 },
 "nbformat": 4,
 "nbformat_minor": 2
}
