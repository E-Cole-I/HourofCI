{
 "cells": [
  {
   "cell_type": "markdown",
   "metadata": {},
   "source": [
    "![Hippo](Hippo_2.png)\n",
    "\n",
    "# Welcome to the World of Cyberinfrastructure\n",
    "\n",
    "\n",
    "Welcome to the Hour of Cyberinfrastructure. Or Hour of CI for short. This is the Gateway Lesson, which is your introduction to foundational concepts such as _cyberinfrastructure_ and key skills such as using cyberinfrastructure to solve a problem and using geospatial information embedded in data. This is your gateway to additional beginner lessons in topics such as Computational Thinking, Big Data, and Spatial Modeling and Analytics. So with that said, we would like to say<br> <b>Welcome to the World of Cyberinfrastructure!</b>\n",
    "\n",
    "\n"
   ]
  },
  {
   "cell_type": "markdown",
   "metadata": {},
   "source": [
    "## Cyberinfrastructure: Hidden in Plain Sight\n",
    "\n",
    "<br>\n",
    "\n",
    "The first module introduces you to cyberinfrastructure and how it is often hidden in plain sight in the world around you."
   ]
  },
  {
   "cell_type": "markdown",
   "metadata": {},
   "source": [
    "### Infrastructure\n",
    "\n",
    "![\"Working power lines\"](lines.png)\n",
    "\n",
    "\"The term **_infrastructure_** has been used since the 1920s to refer collectively to the roads, power grids, telephone systems, bridges, rail lines, and similar public works that are required for an industrial economy to function... Although good infrastructure is often taken for granted and noticed only when it stops functioning, it is among the most complex and expensive thing that society creates.\" (Atkins et al. 2003)\n",
    "\n",
    "<!-- definitions should be consistent I'm selecting underscore and emphasize **__** here -->\n",
    "\n",
    "![\"Broken power lines with someone cursing that they are broken\"](lines-broken.png)\n",
    "\n",
    "<!-- It would be nice to link Atkins et al. 2003 to the reference itself. Either a references notebook we have or to the source directly. We should be consistent either way. -->\n",
    "\n",
    "\n"
   ]
  },
  {
   "cell_type": "markdown",
   "metadata": {},
   "source": [
    "### Cyberinfrastructure \n",
    "\n",
    "\"**_cyberinfrastructure_** refers to infrastructure based upon distributed computer, information and communication technology.\"  (Atkins et al. 2003)\n",
    "\n",
    "![\"Two laptops communicating through wifi\"](ci-working.png)\n",
    "\n",
    "\"If _infrastructure_ is required for an industrial economy, then we could say that _cyberinfrastructure_ is required for a knowledge economy.\" (Atkins et al. 2003)\n",
    "\n",
    "![\"Factory powered by infrastructure compared to brains powered by cyberinfrastructure\"](inf-ci.png)\n"
   ]
  },
  {
   "cell_type": "markdown",
   "metadata": {},
   "source": [
    "### Layers of Cyberinfrastructure\n",
    "\n",
    "> “The base technologies underlying cyberinfrastructure are the integrated electro-optical components of computation, storage, and communication that continue to advance in raw capacity at exponential rates. \n",
    "\n",
    "> Above the cyberinfrastructure layer are software programs, services, instruments, data, information, knowledge, and social practices applicable to specific projects, disciplines, and communities of practice. \n",
    "\n",
    "> Between these two layers is the cyberinfrastructure layer of enabling hardware, algorithms, software, communications, institutions, and personnel. This layer should provide an effective and efficient platform for the empowerment of specific communities of researchers to innovate and eventually revolutionize what they do, how they do it, and who participates.” (Atkins et al. 2003)\n",
    "\n",
    "![\"3 layers of cyberinfrastructure: Base Technologies, Cyberinfrastructure, and Communities\"](ci-layers.png)\n"
   ]
  },
  {
   "cell_type": "markdown",
   "metadata": {},
   "source": [
    "## CI in Life\n",
    "\n"
   ]
  },
  {
   "cell_type": "markdown",
   "metadata": {},
   "source": [
    "<b>Cyberinfrastructure (CI)</b> is all around us, but yet, we never stop and think about it. Making things easy and convenient is just one of the benefits that CI provides. Considering that we all use CI everyday, what actually is it? Run each code cell below and answer the accompanied question to see if you can identify what CI actually is."
   ]
  },
  {
   "cell_type": "code",
   "execution_count": 1,
   "metadata": {},
   "outputs": [],
   "source": [
    "# Run this code cell without changing anything\n",
    "import hourofci"
   ]
  },
  {
   "cell_type": "markdown",
   "metadata": {},
   "source": [
    "Run the cell below without changing anything, and select the answer that <b>doesn't</b> directly use cyberinfrastructure. Click Submit when you are satisfied with you answer. "
   ]
  },
  {
   "cell_type": "code",
   "execution_count": null,
   "metadata": {
    "scrolled": false
   },
   "outputs": [],
   "source": [
    "hourofci.RBtn_1()"
   ]
  },
  {
   "cell_type": "markdown",
   "metadata": {},
   "source": [
    "#### Question 2\n",
    "Run the cell below without changing anything, and select the answer that <b>doesn't</b> directly use cyberinfrastructure. Click Submit when you are satisfied with you answer. "
   ]
  },
  {
   "cell_type": "code",
   "execution_count": null,
   "metadata": {},
   "outputs": [],
   "source": [
    "hourofci.RBtn_2()"
   ]
  },
  {
   "cell_type": "markdown",
   "metadata": {},
   "source": [
    "#### Question 3\n",
    "\n",
    "Run the cell below without changing anything, and select the answer that <b>doesn't</b> directly use cyberinfrastructure. Click Submit when you are satisfied with you answer. "
   ]
  },
  {
   "cell_type": "code",
   "execution_count": null,
   "metadata": {},
   "outputs": [],
   "source": [
    "hourofci.RBtn_3()"
   ]
  },
  {
   "cell_type": "markdown",
   "metadata": {},
   "source": [
    "Great! Now that you have an idea of what Cyberinfrastructure is, lets investigate how CI connects the world around us! Click on the Next button to move onto the next portion of the lesson."
   ]
  },
  {
   "cell_type": "code",
   "execution_count": 2,
   "metadata": {},
   "outputs": [
    {
     "data": {
      "application/vnd.jupyter.widget-view+json": {
       "model_id": "b6f9908533d64dfda83b11080ed54802",
       "version_major": 2,
       "version_minor": 0
      },
      "text/plain": [
       "Button(description='Next', layout=Layout(height='120px', margin='5% 25% 5% 25%', width='350px'), style=ButtonS…"
      ]
     },
     "metadata": {},
     "output_type": "display_data"
    }
   ],
   "source": [
    "hourofci.cyberLiteracy()"
   ]
  }
 ],
 "metadata": {
  "kernelspec": {
   "display_name": "Python 3",
   "language": "python",
   "name": "python3"
  },
  "language_info": {
   "codemirror_mode": {
    "name": "ipython",
    "version": 3
   },
   "file_extension": ".py",
   "mimetype": "text/x-python",
   "name": "python",
   "nbconvert_exporter": "python",
   "pygments_lexer": "ipython3",
   "version": "3.7.0"
  }
 },
 "nbformat": 4,
 "nbformat_minor": 2
}
