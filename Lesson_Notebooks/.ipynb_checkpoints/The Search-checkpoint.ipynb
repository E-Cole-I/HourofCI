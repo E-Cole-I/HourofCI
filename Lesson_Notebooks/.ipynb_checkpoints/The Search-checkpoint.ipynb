{
 "cells": [
  {
   "cell_type": "markdown",
   "metadata": {},
   "source": [
    "# The Search\n",
    "\n",
    "## Problems, easy to hard\n",
    "\n",
    "Problems come in all sizes, shapes, and types. Seemingly simple problems can become major challenges once the data becomes 'big'. \n",
    "\n",
    "### Big data.\n",
    "* <b>Volume</b> - This is the amount of data.\n",
    "* <b>Variety</b> - This is the types of data (Structured or Unstructured) that are generated.\n",
    "* <b>Velocity</b> - This is the speed at which data are being generated."
   ]
  },
  {
   "cell_type": "markdown",
   "metadata": {},
   "source": [
    "## How many can you find?\n",
    "\n",
    "We are trying to find all the 'e's'. For example in the following sentence we count 6 e's.\n",
    "\n",
    "> We would like to welcome you to the World of Cyberinfrastructure!\n",
    "\n",
    "Now you try! Click 'Go' below to show the phrase and count how many e's you can find. We'll time you!"
   ]
  },
  {
   "cell_type": "code",
   "execution_count": 1,
   "metadata": {},
   "outputs": [],
   "source": [
    "import hourofci"
   ]
  },
  {
   "cell_type": "code",
   "execution_count": 2,
   "metadata": {},
   "outputs": [
    {
     "data": {
      "application/vnd.jupyter.widget-view+json": {
       "model_id": "5aa17e4a41ec4e3e8f1644b05942aa03",
       "version_major": 2,
       "version_minor": 0
      },
      "text/plain": [
       "Button(button_style='info', description='Go!', style=ButtonStyle())"
      ]
     },
     "metadata": {},
     "output_type": "display_data"
    }
   ],
   "source": [
    "hourofci.goBtn_part1()"
   ]
  },
  {
   "cell_type": "markdown",
   "metadata": {},
   "source": [
    "## Not bad, but how many can you find now?\n",
    "\n",
    "\n",
    "A nice warmup, but to really challenge you let's see how many you can find now.\n",
    "\n",
    "Click 'Go' below to show the phrase and count how many e's you can find. We'll time you!\n"
   ]
  },
  {
   "cell_type": "code",
   "execution_count": 3,
   "metadata": {},
   "outputs": [
    {
     "data": {
      "application/vnd.jupyter.widget-view+json": {
       "model_id": "6aa0029a0be1412f8abd7771bf36183e",
       "version_major": 2,
       "version_minor": 0
      },
      "text/plain": [
       "Button(button_style='info', description='Go!', style=ButtonStyle())"
      ]
     },
     "metadata": {},
     "output_type": "display_data"
    }
   ],
   "source": [
    "hourofci.goBtn_part2()"
   ]
  },
  {
   "cell_type": "markdown",
   "metadata": {},
   "source": [
    "## How about now?!\n",
    "\n",
    "What happens when the data continues to grow? We can only count so fast! In the next example, we will count the number of e's in a number of screenplays. Instead of counting the e's ourselves, we can leverage the power of computers! By automating this task, we can speed up the time it takes. \n",
    "\n",
    "#### Screenplay List\n",
    "\n",
    "* Airbud\n",
    "* Casablanca\n",
    "* The Goofy Movie\n",
    "* King Kong\n",
    "* Pokémon: The First Movie\n",
    "* Sleepless in Seattle\n",
    "* Spider-Man 3\n",
    "* Teenage Mutant Ninja Turtles III\n",
    "\n",
    "Run the cell below to see how many e's are in each screenplay."
   ]
  },
  {
   "cell_type": "code",
   "execution_count": null,
   "metadata": {},
   "outputs": [],
   "source": [
    "hourofci.goBtn_part3()"
   ]
  },
  {
   "cell_type": "markdown",
   "metadata": {},
   "source": [
    "What V of Big Data is being demonstrated here? Run the cell, and enter your answer into the text box below. "
   ]
  },
  {
   "cell_type": "code",
   "execution_count": null,
   "metadata": {},
   "outputs": [],
   "source": [
    "hourofci.Text(\"Q6\")"
   ]
  },
  {
   "cell_type": "markdown",
   "metadata": {},
   "source": [
    "## Computers can't always do it all so easily.\n",
    "\n",
    "<br>\n",
    "\n",
    "Counting text can be done easily, but what happens when we consider different types of media such as image and video. This is more difficult for computers to detect. Think about all the different things that could make it difficult for a computer to interpret an image but still remain relatively easy for a human. There might be different fonts, the angle of the image is weird, there could be noise in the photo, etc. Move through the exercise below and answer the accompanied questions to better understand what this may mean."
   ]
  },
  {
   "cell_type": "markdown",
   "metadata": {},
   "source": [
    "How many e's do you see in the photo? Run the cell under the image, and enter the number of e's in the box below."
   ]
  },
  {
   "cell_type": "markdown",
   "metadata": {},
   "source": [
    "![Highway](https://www.gannett-cdn.com/-mm-/6d46f0a03148c87ce3989a311abc6d55d0153ee9/c=0-302-3264-2146/local/-/media/2016/11/01/Westchester/Westchester/636136403647346791-NYsigns.jpg?width=3200&height=1680&fit=crop)"
   ]
  },
  {
   "cell_type": "code",
   "execution_count": null,
   "metadata": {
    "scrolled": true
   },
   "outputs": [],
   "source": [
    "hourofci.BoundedIntText(\"Q7\")"
   ]
  },
  {
   "cell_type": "markdown",
   "metadata": {},
   "source": [
    "Now let's let the computer try to read the image. Run the code below to see how many e's that computer can find in the image. "
   ]
  },
  {
   "cell_type": "code",
   "execution_count": null,
   "metadata": {},
   "outputs": [],
   "source": [
    "hourofci.goBtn_part5()"
   ]
  },
  {
   "cell_type": "markdown",
   "metadata": {},
   "source": [
    "What V of Big Data is being demonstrated here? Enter your answer into the text box below. "
   ]
  },
  {
   "cell_type": "code",
   "execution_count": null,
   "metadata": {},
   "outputs": [],
   "source": [
    "hourofci.Text(\"Q8\")"
   ]
  },
  {
   "cell_type": "markdown",
   "metadata": {},
   "source": [
    "## How fast can you go?\n",
    "\n",
    "You have proven to be a formidable opponent to CI. How fast can you go in your task of searching for e's.\n",
    "\n"
   ]
  },
  {
   "cell_type": "code",
   "execution_count": null,
   "metadata": {},
   "outputs": [],
   "source": [
    "# Make a dropdown bar that has a few 'speeds' either per second or fast/med/slow\n",
    "# Flash phrases every so many seconds and let them type in the number.\n",
    "# Do it for about 5 tries or so.\n",
    "\n",
    "# Tell them their results. \n",
    "# And compare it to the computer (You are X% slower than the computer). \n",
    "# Show them how fast the computer can go as a demostration."
   ]
  },
  {
   "cell_type": "markdown",
   "metadata": {},
   "source": [
    "What V of Big Data is being demonstrated here? Enter your answer into the text box below. "
   ]
  },
  {
   "cell_type": "code",
   "execution_count": null,
   "metadata": {},
   "outputs": [],
   "source": [
    "hourofci.Text(\"Q9\")"
   ]
  },
  {
   "cell_type": "markdown",
   "metadata": {},
   "source": [
    "## Even a single computer isn't always fast enough.\n",
    "\n",
    "<br>\n",
    "\n",
    "Give an example where using the time above that a single computer isn't fast enough. This should motivate the discussion on CI/parallel computation and how computational thinking comes into play.\n",
    "\n",
    "This should also connect velocity of data. Again, it isn't necessarily the quantity but how fast it is coming at you. Link to situational awareness for disaster recovery or disease modeling where time matters."
   ]
  },
  {
   "cell_type": "markdown",
   "metadata": {},
   "source": [
    "### Click on a choice below to get start with the next lesson!"
   ]
  },
  {
   "cell_type": "code",
   "execution_count": 4,
   "metadata": {},
   "outputs": [
    {
     "data": {
      "application/vnd.jupyter.widget-view+json": {
       "model_id": "fb47cdcf1bc84a089bfc801bed1ed498",
       "version_major": 2,
       "version_minor": 0
      },
      "text/plain": [
       "HBox(children=(VBox(children=(Button(description='Spatial Thinking', layout=Layout(height='100px', margin='100…"
      ]
     },
     "metadata": {},
     "output_type": "display_data"
    }
   ],
   "source": [
    "hourofci.nextLesson('Spatial Thinking', 'Big Data')"
   ]
  }
 ],
 "metadata": {
  "kernelspec": {
   "display_name": "Python 3",
   "language": "python",
   "name": "python3"
  },
  "language_info": {
   "codemirror_mode": {
    "name": "ipython",
    "version": 3
   },
   "file_extension": ".py",
   "mimetype": "text/x-python",
   "name": "python",
   "nbconvert_exporter": "python",
   "pygments_lexer": "ipython3",
   "version": "3.7.0"
  }
 },
 "nbformat": 4,
 "nbformat_minor": 2
}
