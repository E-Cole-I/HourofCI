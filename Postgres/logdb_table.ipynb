{
 "cells": [
  {
   "cell_type": "markdown",
   "metadata": {},
   "source": [
    "## Postgres Table Creation"
   ]
  },
  {
   "cell_type": "markdown",
   "metadata": {},
   "source": [
    "In this script, I create a table in a postgres database in a particular database. This is a preliminary step to inputting records from the log parsing jupyter notebook.\n",
    "<br>\n",
    "\n",
    "Requirements\n",
    "- postgres\n",
    "- psycopg2 module\n",
    "- A user with read/write privileges in postgres\n",
    "\n",
    "User that creates the database and the one that accesses the function via log need to be different. Who ever creates the database table is a super user by default. We want to have more permissions for the database, and limit any activity to strictly insertions. We do not want anyone able to read our database except for HourofCI personnel. "
   ]
  },
  {
   "cell_type": "markdown",
   "metadata": {},
   "source": [
    "### Import Module"
   ]
  },
  {
   "cell_type": "markdown",
   "metadata": {},
   "source": [
    "For more information on psycopg2, see [here](http://initd.org/psycopg/).\n"
   ]
  },
  {
   "cell_type": "code",
   "execution_count": 30,
   "metadata": {},
   "outputs": [],
   "source": [
    "import psycopg2"
   ]
  },
  {
   "cell_type": "markdown",
   "metadata": {},
   "source": [
    "### Create a database connection"
   ]
  },
  {
   "cell_type": "code",
   "execution_count": 42,
   "metadata": {},
   "outputs": [
    {
     "name": "stdout",
     "output_type": "stream",
     "text": [
      "{'user': 'tweet', 'dbname': 'hourofci', 'host': '127.0.0.1', 'port': '5433', 'tty': '', 'options': '', 'sslmode': 'prefer', 'sslcompression': '1', 'krbsrvname': 'postgres', 'target_session_attrs': 'any'} \n",
      "\n"
     ]
    }
   ],
   "source": [
    "# Creates a connection to a database in Postgres (Local)\n",
    "logdb_connection = psycopg2.connect(\n",
    "                                    \n",
    "                                  # Master User for table (Not the same user in the HourofCI Script)\n",
    "                                  user = \"tweet\",\n",
    "                                  password = \"ggez\",\n",
    "                                  \n",
    "                                  # Host for Database table creation\n",
    "                                  host = \"127.0.0.1\",\n",
    "                                    \n",
    "                                  # Depending on Postgres, this could change. Usually 5432 or 5433.\n",
    "                                  port = \"5433\",\n",
    "                                \n",
    "                                  # Postgres database to create a table in and store information\n",
    "                                  database = \"hourofci\")\n",
    "\n",
    "# Needed for connection\n",
    "cursor = logdb_connection.cursor()\n",
    "\n",
    "# Print PostgreSQL Connection properties\n",
    "print (logdb_connection.get_dsn_parameters(),\"\\n\")"
   ]
  },
  {
   "cell_type": "markdown",
   "metadata": {},
   "source": [
    "### Create a Table Schema"
   ]
  },
  {
   "cell_type": "code",
   "execution_count": 43,
   "metadata": {},
   "outputs": [],
   "source": [
    "'''\n",
    "This is the schema for specific table (hourofci)\n",
    "VARCHAR is a lot more efficient for storage since size has to be specified unlike TEXT. You are also\n",
    "able to index on it which you can't do with TEXT. This could be important wiht the user base growth. \n",
    "Only use TEXT for the answers column since the column could grow quite large.\n",
    "\n",
    "Schema explanation\n",
    "    - userid           # user identification\n",
    "    - access_date      # The date that the question was accessed\n",
    "    - access_time      # The time that the lesson was accessed\n",
    "    - lesson           # Lesson name such as gateway, parallel, big_data, or something else\n",
    "    - lesson_level     # Lesson level refers to beginner or advanced. Gateway lesson only has a beginner lesson\n",
    "    - question         # The question in the lesson\n",
    "    - answers          # All the changes that has occurred between each submission\n",
    "    - attempts         # Number of attempts for each question. easier interpretation of more difficult questions\n",
    "    - time_taken       # Time taken to answer the question\n",
    "    - correct          # Y or N depending on if the answer of the question is right. \n",
    "\n",
    "\n",
    "'''\n",
    "\n",
    "# Actual Schema\n",
    "Table = \"\"\"CREATE TABLE hourofci\n",
    "                (userid VARCHAR(30),\n",
    "                 access_date DATE,\n",
    "                 access_time VARCHAR(20),\n",
    "                 lesson VARCHAR(30),\n",
    "                 lesson_level VARCHAR(10),\n",
    "                 question VARCHAR(3),\n",
    "                 answers TEXT,\n",
    "                 attempts VARCHAR(2),\n",
    "                 time_taken VARCHAR(25),\n",
    "                 correct VARCHAR(2)\n",
    "                 );\"\"\""
   ]
  },
  {
   "cell_type": "markdown",
   "metadata": {},
   "source": [
    "### Create a Table from Schema"
   ]
  },
  {
   "cell_type": "code",
   "execution_count": 48,
   "metadata": {},
   "outputs": [
    {
     "ename": "InterfaceError",
     "evalue": "cursor already closed",
     "output_type": "error",
     "traceback": [
      "\u001b[1;31m---------------------------------------------------------------------------\u001b[0m",
      "\u001b[1;31mInterfaceError\u001b[0m                            Traceback (most recent call last)",
      "\u001b[1;32m<ipython-input-48-6b89b3f0b7ef>\u001b[0m in \u001b[0;36m<module>\u001b[1;34m()\u001b[0m\n\u001b[0;32m      1\u001b[0m \u001b[1;31m# Execute CREATE TABLE command\u001b[0m\u001b[1;33m\u001b[0m\u001b[1;33m\u001b[0m\u001b[0m\n\u001b[1;32m----> 2\u001b[1;33m \u001b[0mcursor\u001b[0m\u001b[1;33m.\u001b[0m\u001b[0mexecute\u001b[0m\u001b[1;33m(\u001b[0m\u001b[0mTable\u001b[0m\u001b[1;33m)\u001b[0m\u001b[1;33m\u001b[0m\u001b[0m\n\u001b[0m\u001b[0;32m      3\u001b[0m \u001b[1;33m\u001b[0m\u001b[0m\n\u001b[0;32m      4\u001b[0m \u001b[1;31m# Commit the action to the database\u001b[0m\u001b[1;33m\u001b[0m\u001b[1;33m\u001b[0m\u001b[0m\n\u001b[0;32m      5\u001b[0m \u001b[0mlogdb_connection\u001b[0m\u001b[1;33m.\u001b[0m\u001b[0mcommit\u001b[0m\u001b[1;33m(\u001b[0m\u001b[1;33m)\u001b[0m\u001b[1;33m\u001b[0m\u001b[0m\n",
      "\u001b[1;31mInterfaceError\u001b[0m: cursor already closed"
     ]
    }
   ],
   "source": [
    "# Execute CREATE TABLE command\n",
    "cursor.execute(Table)\n",
    "\n",
    "# Commit the action to the database\n",
    "logdb_connection.commit()\n",
    "\n",
    "# Close the cursor\n",
    "logdb_connection.close()\n",
    "print(\"Table created successfully in PostgreSQL \")"
   ]
  },
  {
   "cell_type": "code",
   "execution_count": null,
   "metadata": {},
   "outputs": [],
   "source": []
  }
 ],
 "metadata": {
  "kernelspec": {
   "display_name": "Python 3",
   "language": "python",
   "name": "python3"
  },
  "language_info": {
   "codemirror_mode": {
    "name": "ipython",
    "version": 3
   },
   "file_extension": ".py",
   "mimetype": "text/x-python",
   "name": "python",
   "nbconvert_exporter": "python",
   "pygments_lexer": "ipython3",
   "version": "3.7.0"
  }
 },
 "nbformat": 4,
 "nbformat_minor": 2
}
