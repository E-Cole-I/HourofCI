{
 "cells": [
  {
   "cell_type": "markdown",
   "metadata": {},
   "source": [
    "# Hour of CI Widgets Creation"
   ]
  },
  {
   "cell_type": "markdown",
   "metadata": {},
   "source": [
    "Creator: Coleman Shepard, shepa135@umn.edu\n",
    "\n",
    "This notebook is for the development of widget wrappers to log information from users using the widgets. This is the Python version of the collection methodology for the Hour of CI. \n",
    "\n",
    "[Widget List](https://ipywidgets.readthedocs.io/en/stable/examples/Widget%20List.html)\n"
   ]
  },
  {
   "cell_type": "markdown",
   "metadata": {},
   "source": [
    "## __init__.py file Contents\n",
    "\n",
    "<br>\n"
   ]
  },
  {
   "cell_type": "code",
   "execution_count": 1,
   "metadata": {},
   "outputs": [],
   "source": [
    "from IPython.display import display, clear_output\n",
    "from IPython.display import HTML\n",
    "from ipywidgets import widgets, interact, interactive, fixed, interact_manual, Layout\n",
    "from ipywidgets import Button, HBox, VBox\n",
    "import time\n",
    "import datetime\n",
    "import psycopg2\n",
    "import numpy as np\n",
    "import hashlib\n",
    "import requests\n",
    "import random\n",
    "\n",
    "# Go Button Counting\n",
    "from string import ascii_lowercase\n",
    "from collections import Counter\n",
    "import os\n",
    "import webbrowser\n",
    "\n",
    "# Collects user information\n",
    "import getpass\n",
    "\n",
    "\n",
    "# Answer_Dict is used for the collection of answers from the user. Submit button retrieves the last entered value. \n",
    "Answer_Dict = {\"Q1\":[None], \"Q2\":[None], \"Q3\":[None], \"Q4\":[None], \"Q5\":[None], \"Q6\":[None], \"Q7\":[None], \"Q8\":[None], \"Q9\":[None]}\n",
    "\n",
    "\n",
    "# Submission count for each questions (attempts in the database)\n",
    "submission_count = {\"Q1\":0, \"Q2\":0, \"Q3\":0, \"Q4\":0, \"Q5\":0, \"Q6\":0,\"Q7\":0,\"Q8\":0,\"Q9\":0}"
   ]
  },
  {
   "cell_type": "markdown",
   "metadata": {},
   "source": [
    "# Constructors to Add to Widgets"
   ]
  },
  {
   "cell_type": "markdown",
   "metadata": {},
   "source": [
    "These functions below are components of the wrappers around the Jupyter widgets to provide feedback and log information. \n",
    "\n",
    "<b>Functions</b>\n",
    "- Valid (valid)\n",
    "- API Call (api_call)\n",
    "- Hash Dictionary (hash_dict)\n",
    "- Log (logging)\n",
    "- Submit Button (button)"
   ]
  },
  {
   "cell_type": "markdown",
   "metadata": {},
   "source": [
    "## Valid"
   ]
  },
  {
   "cell_type": "markdown",
   "metadata": {},
   "source": [
    "Uses Valid widget to provide feedback to the user if the answer is right or wrong. "
   ]
  },
  {
   "cell_type": "code",
   "execution_count": 2,
   "metadata": {},
   "outputs": [],
   "source": [
    "def valid(boolVal):\n",
    "    # If the boolean is True\n",
    "    if boolVal == True:\n",
    "        valid_widget = widgets.Valid(\n",
    "                      value=boolVal,\n",
    "                      description='Valid!',\n",
    "                      )\n",
    "        display(valid_widget)\n",
    "        print(\"Congrats!!\")\n",
    "        return True\n",
    "    \n",
    "    # If the boolean is false\n",
    "    elif boolVal == False:\n",
    "        valid_widget = widgets.Valid(\n",
    "                      value=boolVal,\n",
    "                      description='',\n",
    "                      )\n",
    "        \n",
    "        display(valid_widget)\n",
    "        print(\"Try Again!\")"
   ]
  },
  {
   "cell_type": "markdown",
   "metadata": {},
   "source": [
    "Uses the API to evaluate if the answers are correct. This way does not allow the user to retrieve all of the correct information. "
   ]
  },
  {
   "cell_type": "code",
   "execution_count": 3,
   "metadata": {},
   "outputs": [],
   "source": [
    "# Lesson and level could be determined in the first part of each lesson. (i.e. Run these cells )\n",
    "def api_call(lesson, lesson_level, question, answer):\n",
    "    \n",
    "    # Change once in the cloud :) ------------------------\n",
    "    host = \"127.0.0.1\"\n",
    "    port = \"5011\"\n",
    "    # If the API Stops working, try switching the port. Sometimes this gets messed up. \n",
    "    # ----------------------------------------------------\n",
    "    \n",
    "    # Lowercase answer to make it non-case sensitive\n",
    "    answer = answer.lower()\n",
    "    \n",
    "    # Hash answer to send over to the Flask API for validation\n",
    "    answer = answer.encode('utf-8')\n",
    "    hash_object = hashlib.sha256(answer)\n",
    "    hash_answer = hash_object.hexdigest()  \n",
    "\n",
    "    \n",
    "    \n",
    "    url = \"http://{}:{}/{}/{}/{}/{}\".format(host, port, lesson, lesson_level, question, hash_answer)\n",
    "    # If you get a JSON Decode error, check to see if the Flask API is up on the right port. T\n",
    "    # Try changing the port if you are experiencing problems\n",
    "    response = requests.get(url).json()\n",
    "\n",
    "    return valid(response)"
   ]
  },
  {
   "cell_type": "markdown",
   "metadata": {},
   "source": [
    "## Logging Function\n"
   ]
  },
  {
   "cell_type": "code",
   "execution_count": 4,
   "metadata": {},
   "outputs": [],
   "source": [
    "def logging(userid, date, time_log, lesson, lesson_level, question, attempts, time_taken, correct):\n",
    "    ''' \n",
    "    This function takes in arguments above, connects to the hourofci database table in postgres, calls a function on the postgres\n",
    "    side that inserts the information from the table into \n",
    "    \n",
    "    '''\n",
    "    # Postgres is the definition of beautiful\n",
    "    logdb_connection = psycopg2.connect(user = \"miami\",\n",
    "                                  password = \"ggez\",\n",
    "                                  host = \"127.0.0.1\",\n",
    "                                  port = \"5433\",\n",
    "                                  database = \"hourofci\")\n",
    "    # Needed for connection\n",
    "    cursor = logdb_connection.cursor()\n",
    "    \n",
    "    # Specific type casting to align with the database table\n",
    "    userid = str(userid)\n",
    "    \n",
    "    # Question String (Q5, Q2, etc)\n",
    "    question = question\n",
    "    \n",
    "    # Time taken to answer a question\n",
    "    time_taken = str(time_taken)\n",
    "    \n",
    "    # If the submission to the question was correct\n",
    "    correct = str(correct)\n",
    "    \n",
    "    # Removes None from the dictionary (Works fine, but will be searching for a better way)\n",
    "    if None in Answer_Dict[question]:\n",
    "        Answer_Dict[question].remove(None)\n",
    "    \n",
    "    # Grabs the answers from the specific question from the Answer_Dict\n",
    "    answers = str(Answer_Dict[question])\n",
    "    \n",
    "    # Calls a function in SQL that logs these values\n",
    "    cursor.callproc('hourofci', (userid, date, time_log, lesson, lesson_level, question, answers, attempts, time_taken, correct))\n",
    "\n",
    "    # Commit the insert\n",
    "    logdb_connection.commit()"
   ]
  },
  {
   "cell_type": "markdown",
   "metadata": {},
   "source": [
    "## Submit Button"
   ]
  },
  {
   "cell_type": "markdown",
   "metadata": {},
   "source": [
    "The Submit button allows users to submit each answer to validate it. This function contains the validation from above and the logging function to submit any answer to a database. This function needs to be added in each widget instance. Below, you will see examples of these widgets with the submit button included to validate an example answer. The question argument needs to be associated with one of the keys from the <b>Answer_Dict</b>. This ensures the right values are being evaluated for the selected question. "
   ]
  },
  {
   "cell_type": "code",
   "execution_count": 5,
   "metadata": {},
   "outputs": [],
   "source": [
    "def button(question, start_time=time.time()):    \n",
    "    \n",
    "    # Resets the answers list from Answer_Dict so we are not collecting redundant information (Keep)\n",
    "    Answer_Dict[question] = [None]\n",
    "    \n",
    "    # For checking the state of the button. Specific for each question.\n",
    "    global button_state\n",
    "    button_state = []\n",
    "    \n",
    "#     # Get the user start time to evaluate how much time is spent on this module. \n",
    "#     start_time = start_time\n",
    "\n",
    "    \n",
    "    # Submit Button Creation\n",
    "    \n",
    "    button_widget = widgets.Button(\n",
    "                            value=False,\n",
    "                            description='Submit',\n",
    "                            disabled=False,\n",
    "                            button_style='success', # 'success', 'info', 'warning', 'danger' or ''\n",
    "                            tooltip='Description',\n",
    "                            icon='check'\n",
    "                            )\n",
    "    \n",
    "    # Display the button\n",
    "    display(button_widget)\n",
    "    \n",
    "\n",
    "    def on_button_clicked(b):\n",
    "        \n",
    "        # Signifies if the button has been pressed to signal to the evaluator that it can run.\n",
    "        if len(button_state) < 1:\n",
    "            \n",
    "            button_state.append(True)\n",
    "            \n",
    "        # Checks if the submit button has been clicked.    \n",
    "        if button_state[0] == True:\n",
    "            \n",
    "            # Answer is the last landed on answer in the dictionary. \n",
    "            if len(Answer_Dict[question]) > 0:\n",
    "                answer = str(Answer_Dict[question][-1])\n",
    "            else:\n",
    "                print(\"Try choosing a different answer!\")\n",
    "                return\n",
    "            \n",
    "            try:\n",
    "                # Submission Count Incrementing \n",
    "                submission_count[question] += 1\n",
    "\n",
    "\n",
    "                # Question attempts\n",
    "                attempts = str(submission_count[question])\n",
    "            \n",
    "            except:\n",
    "                print(\"Warning 1000 - Can not validate answer at the moment.\")\n",
    "                return\n",
    "                \n",
    "    \n",
    "            # Temp Values --------------------------------------- CHANGE THESE FOR PROD\n",
    "            lesson = \"gateway\"\n",
    "            lesson_level = \"beginner\"\n",
    "            #  ------------------------------------------------------------------------\n",
    "    \n",
    "    \n",
    "            try:\n",
    "                # Call the validation function\n",
    "                validation = api_call(lesson, lesson_level, question, answer)\n",
    "\n",
    "                validation\n",
    "            except:\n",
    "                # We are not letting this fail if the validation Does not run\n",
    "                print(\"Warning 1001 - Can not validate answer at the moment.\")\n",
    "                validation = \"BrokenAPI\"\n",
    "                return\n",
    "                \n",
    "            \n",
    "            \n",
    "            # Default\n",
    "            correct = \"N\"\n",
    "            \n",
    "            # If validation variable == True, the answer becomes \"correct\"\n",
    "            if validation == True:\n",
    "                correct = \"Y\"\n",
    "                \n",
    "            elif validation == \"BrokenAPI\":\n",
    "                # If this value is being recorded in the database, it means the API is broken or not running. \n",
    "                correct = \"B\"\n",
    "        \n",
    "            \n",
    "            # Date \n",
    "            date = datetime.datetime.today().strftime('%Y-%m-%d')\n",
    "            \n",
    "            # Time\n",
    "            time_log = time.strftime(\"%H:%M:%S\", time.gmtime(time.time()))\n",
    "            \n",
    "            \n",
    "            # Total time taken (Calculated everytime submit is pressed)\n",
    "            time_taken = time.time() - start_time\n",
    "            print(round(time_taken, 2), \"Seconds\")\n",
    "            \n",
    "            # User ID, but we will have to find a way to calculate it dynamically\n",
    "            userid = getpass.getuser()\n",
    "            \n",
    "            # Log information from logging function\n",
    "            # Answers variable is located in the logging function\n",
    "            try:\n",
    "                logging(userid, date, time_log, lesson, lesson_level, question, attempts, time_taken, correct)\n",
    "            \n",
    "            except:\n",
    "                print('Warning 1002')\n",
    "                return\n",
    "                \n",
    "            \n",
    "        \n",
    "        \n",
    "   \n",
    "    # Checks if the button was clicked\n",
    "    button_widget.on_click(on_button_clicked)"
   ]
  },
  {
   "cell_type": "markdown",
   "metadata": {},
   "source": [
    "## Go Button (Main)\n",
    "\n",
    "<br>\n",
    "The Go button is similar to the submit button, but it is used to start a task instead of ending it. When Go is clicked, it will start the time and then start another task such as printing out sentences, displaying a graphic, or another task. This will allow us to interactively time the users when they choose to start. "
   ]
  },
  {
   "cell_type": "code",
   "execution_count": 6,
   "metadata": {},
   "outputs": [],
   "source": [
    "# Data Structure to shove (function,argument) tuple into into to be activated on a click. It's a bit weird, but it works. \n",
    "array_to_pass = []\n",
    "\n",
    "\n",
    "\n",
    "# Question Array\n",
    "question_array = []\n",
    "\n",
    "# Function to be put into the array_to_pass (Simple Example)\n",
    "def default_action(action):\n",
    "    print(action)\n",
    "    \n",
    "\n",
    "    \n",
    "def goBtn(question, funct, action):\n",
    "    # Resets the array at the beginning to make sure other questions don't break it\n",
    "    array_to_pass = []\n",
    "    question_array = []\n",
    "    \n",
    "    # Appends the function and argument to the  \n",
    "    array_to_pass.append(action)\n",
    "    question_array.append(question)\n",
    "\n",
    "    # Create a new button\n",
    "    button = widgets.Button(description=\"Go!\", \n",
    "                           button_style='info',)\n",
    "    \n",
    "\n",
    "    \n",
    "    # Display button\n",
    "    display(button)\n",
    "\n",
    "    # Action for the event listener\n",
    "    def on_button_clicked(b):\n",
    "        \n",
    "        # Start time needs to be passed to the Submit button. \n",
    "        start_time = time.time()\n",
    "        # Access the last item in the array for access to the latest function. \n",
    "        print(array_to_pass[-1])\n",
    "        \n",
    "        \n",
    "        # Append start time to time_taken_array for later retrieval \n",
    "        BoundedIntText(question_array[-1])\n",
    "        \n",
    "    \n",
    "        \n",
    "    \n",
    "    # Event Listener Called on CLick\n",
    "    button.on_click(on_button_clicked)\n",
    "\n",
    "    \n",
    "#     return start_time\n",
    "\n",
    "# Pass a function with an \n",
    "# goBtn(default_action,ggez)"
   ]
  },
  {
   "cell_type": "markdown",
   "metadata": {},
   "source": [
    "## Go Button  (Part 1)"
   ]
  },
  {
   "cell_type": "code",
   "execution_count": 7,
   "metadata": {},
   "outputs": [],
   "source": [
    "ggez = \"Geospatial science and technologies are super powerful when enabled with cyberinfrastructure.\"\n",
    "\n",
    "def goBtn_part1():\n",
    "    goBtn(\"Q4\",default_action, ggez)\n",
    "\n",
    "# goBtn_part1()"
   ]
  },
  {
   "cell_type": "markdown",
   "metadata": {},
   "source": [
    "## Go Button (Part 2)"
   ]
  },
  {
   "cell_type": "code",
   "execution_count": 8,
   "metadata": {},
   "outputs": [],
   "source": [
    "paragraph = \"A young farm boy, who dreams of adventure, lives in a galaxy torn by rebellion and war. He is pushed into the conflict after his aunt and uncle are killed by the Empire for the droids he possesses. After joining a smuggler for cheap transportation, the boy and his mentor are captured by the Empire on their way to rescue a princess and, in the ensuing struggle, the mentor sacrifices himself. The boy and the smuggler save the princess and think they have escaped, only to learn the Empire has followed them to the Rebel base, intending to destroy the planet. Aided by his companions and the last lesson of his fallen mentor, the boy must exploit the hidden weakness of the Empire’s destructive weapon to preserve the Rebellion.\"\n",
    "\n",
    "def goBtn_part2():\n",
    "    goBtn(\"Q5\", default_action, paragraph)"
   ]
  },
  {
   "cell_type": "markdown",
   "metadata": {},
   "source": [
    "## Go Button (Part 3)"
   ]
  },
  {
   "cell_type": "code",
   "execution_count": 9,
   "metadata": {},
   "outputs": [],
   "source": [
    "def goBtn_part3():\n",
    "    total = 0\n",
    "    print(\"e's in the screenplays\")\n",
    "    print(\"-----------------------------------------------\")\n",
    "    # Creates a list of files in the directory.\n",
    "    for file in os.listdir(\"screenplays\"):\n",
    "        # Open each Text file\n",
    "        \n",
    "        with open(\"screenplays\\\\\" + file) as f:\n",
    "            # Counts total letters in each text file\n",
    "            letters = Counter(letter for line in f \n",
    "                      for letter in line.lower() \n",
    "                      if letter in ascii_lowercase)\n",
    "            \n",
    "            # Create a readable name for each movie.\n",
    "            if file == \"airbud_1997.txt\":\n",
    "                screenplay = \"AirBud\"\n",
    "            elif file == \"goofymovie.txt\":\n",
    "                screenplay = \"Goofy Movie\"\n",
    "            elif file == \"spiderman3.txt\":\n",
    "                screenplay = \"Spider-Man 3\"\n",
    "            elif file == \"tmnt3.txt\":\n",
    "                screenplay = \"Teenage Mutant Ninja Turtles III\"\n",
    "            elif file == \"sleeplessinseattle.txt\":\n",
    "                screenplay = \"Sleepless in Seattle\"\n",
    "            elif file == \"pokemon.txt\":\n",
    "                screenplay = \"Pokémon: The First Movie\"\n",
    "            elif file == \"kingkong.txt\":\n",
    "                screenplay = \"King Kong\"\n",
    "            elif file == \"casablanca.txt\":\n",
    "                screenplay = \"Casablanca\"\n",
    "            total+=letters[\"e\"]\n",
    "            # Print Results\n",
    "            print(\"There are\", letters[\"e\"], \"e's in the\", screenplay, \"screenplay.\")\n",
    "    print(\"-----------------------------------------------\")\n",
    "    print(\"There are\", total, \"letter e's in the screenplays.\")\n",
    "            \n",
    "# goBtn_part3()"
   ]
  },
  {
   "cell_type": "markdown",
   "metadata": {},
   "source": [
    "## Go Button (Part 4)"
   ]
  },
  {
   "cell_type": "code",
   "execution_count": 10,
   "metadata": {},
   "outputs": [],
   "source": [
    "def goBtn_part4_1():\n",
    "    goBtn(\"Q2\", default_action,action=\"\")\n",
    "    \n",
    "# goBtn_part4_1()"
   ]
  },
  {
   "cell_type": "code",
   "execution_count": 11,
   "metadata": {},
   "outputs": [],
   "source": [
    "def goBtn_part5():\n",
    "    print(\"Zero e's found..\")\n",
    "    \n",
    "# goBtn_part4()"
   ]
  },
  {
   "cell_type": "markdown",
   "metadata": {},
   "source": [
    "## Next Buttons"
   ]
  },
  {
   "cell_type": "code",
   "execution_count": 12,
   "metadata": {},
   "outputs": [],
   "source": [
    "def nextPage(url):\n",
    "    # This can be a jupyter notebook, but the host and port need to be referenced in the path\n",
    "    webbrowser.open(url, new=0, autoraise=True)"
   ]
  },
  {
   "cell_type": "markdown",
   "metadata": {},
   "source": [
    "### Gateway Lessons"
   ]
  },
  {
   "cell_type": "code",
   "execution_count": 13,
   "metadata": {
    "scrolled": false
   },
   "outputs": [],
   "source": [
    "def nextSection(url):\n",
    "    # Honestly is a function to hide the passing in of an argument to make it look cleaner\n",
    "    # This one references a gateway lesson notebook\n",
    "    button_1 = Button(description=\"Next\", layout=Layout(width='350px', height='120px', margin='5% 25% 5% 25%'))\n",
    "    button_1.style.button_color = '#59b4e2'\n",
    "    \n",
    "    display(button_1)\n",
    "    \n",
    "    def on_clicked(b):\n",
    "        nextPage(url)\n",
    "    \n",
    "    button_1.on_click(on_clicked)\n",
    "\n",
    "# cyberLiteracy()"
   ]
  },
  {
   "cell_type": "code",
   "execution_count": 14,
   "metadata": {
    "scrolled": false
   },
   "outputs": [],
   "source": [
    "def nextLesson(x,y):\n",
    "    # Button Instances\n",
    "    button_1 = Button(description=x, layout=Layout(width='350px', height='100px', margin='100px 150px 100px 80px'))\n",
    "    button_2 = Button(description=y, layout=Layout(width='350px', height='100px', margin='100px 150px 100px 80px'))\n",
    "    \n",
    "    # Change the button color\n",
    "    button_1.style.button_color = '#59b4e2'\n",
    "    button_2.style.button_color = '#59b4e2'\n",
    "\n",
    "    # Display boxes for the buttons\n",
    "    left_box = VBox([button_1])\n",
    "    right_box = VBox([button_2])\n",
    "    display(HBox([left_box, right_box]))\n",
    "\n",
    "    \n",
    "    def spatial_thinking(b):\n",
    "        nextPage('https://sites.google.com/umn.edu/hourofci/home')\n",
    "#         spatialThinking()\n",
    "\n",
    "\n",
    "    def big_data(b):\n",
    "        nextPage('https://sites.google.com/umn.edu/hourofci/home')\n",
    "#         bigData()\n",
    "        \n",
    "    # Fix the functionality of this function. Try to make it useful for every single tutorial.. \n",
    "        \n",
    "\n",
    "\n",
    "    button_1.on_click(spatial_thinking)\n",
    "    button_2.on_click(big_data)\n",
    "\n",
    "# nextLesson('Spatial Thinking', 'Big Data')"
   ]
  },
  {
   "cell_type": "markdown",
   "metadata": {},
   "source": [
    "# Jupyter Widgets"
   ]
  },
  {
   "cell_type": "markdown",
   "metadata": {},
   "source": [
    "This section gives an overview of the importable widgets that include the logging and validation functions for Hour of CI."
   ]
  },
  {
   "cell_type": "markdown",
   "metadata": {},
   "source": [
    "## Widget Construction Breakdown\n",
    "\n",
    "<br>"
   ]
  },
  {
   "cell_type": "markdown",
   "metadata": {},
   "source": [
    "This is the basic break down of how the widgets are constructed. These comments will hopefully illustrate the break down of the widget wrapper consturction."
   ]
  },
  {
   "cell_type": "code",
   "execution_count": 15,
   "metadata": {},
   "outputs": [],
   "source": [
    "# Def of some function\n",
    "    # Widget instance with specified parameters\n",
    "    # Display function\n",
    "    # Def of another function to monitor value changes\n",
    "    # Observe function\n",
    "    # Button"
   ]
  },
  {
   "cell_type": "markdown",
   "metadata": {},
   "source": [
    "## IntSlider"
   ]
  },
  {
   "cell_type": "code",
   "execution_count": 16,
   "metadata": {},
   "outputs": [],
   "source": [
    "def IntSlider(question):\n",
    "    start_time = time.time()\n",
    "    int_range = widgets.IntSlider()\n",
    "    display(int_range)\n",
    "    value = 10\n",
    "    \n",
    "    \n",
    "    def on_value_change(change):\n",
    "        \n",
    "        # Appends the answer to the Answer_Dict to push over to the database.\n",
    "        Answer_Dict[question].append(change[\"new\"])\n",
    "\n",
    "\n",
    "    int_range.observe(on_value_change, names='value')\n",
    "    \n",
    "    # Button Evaluator with arguments (desired_answer, frmt) | Fmrt is the format to evaluate like single item, list, dict, etc\n",
    "    button(question, start_time)  \n",
    "\n",
    "# IntSlider(question = \"Q2\")"
   ]
  },
  {
   "cell_type": "markdown",
   "metadata": {},
   "source": [
    "## Text"
   ]
  },
  {
   "cell_type": "code",
   "execution_count": 17,
   "metadata": {
    "scrolled": true
   },
   "outputs": [],
   "source": [
    "def Text(question, placeholder = 'Type Something', description = \"Question\"):\n",
    "    start_time = time.time()\n",
    "    \n",
    "    # Widget State\n",
    "    text = widgets.Text(\n",
    "        value='',\n",
    "        placeholder= placeholder,\n",
    "        description = description,\n",
    "        disabled=False\n",
    "    )\n",
    "    display(text)\n",
    "\n",
    "    \n",
    "    # Python Observer\n",
    "    def on_value_change(change):\n",
    "        \n",
    "        # Appends to the dictionary answer\n",
    "        Answer_Dict[question].append(change[\"new\"])\n",
    "    \n",
    "\n",
    "            \n",
    "    # Call the observer function\n",
    "    text.observe(on_value_change, names='value')\n",
    "    \n",
    "    # Button Evaluator with arguments (desired_answer, frmt) | Fmrt is the format to evaluate like single item, list, dict, etc\n",
    "    button(question, start_time)    \n",
    "        \n",
    "    \n",
    "# Text(question = \"Q2\")"
   ]
  },
  {
   "cell_type": "markdown",
   "metadata": {},
   "source": [
    "## FloatSlider"
   ]
  },
  {
   "cell_type": "code",
   "execution_count": 18,
   "metadata": {},
   "outputs": [],
   "source": [
    "def FloatSlider(question):\n",
    "    start_time = time.time()\n",
    "    float_slider_widget = widgets.FloatSlider(\n",
    "                                                value=5.0,\n",
    "                                                min=0,\n",
    "                                                max=10.0,\n",
    "                                                step=0.1,\n",
    "                                                description='Slider:',\n",
    "                                                disabled=False,\n",
    "                                                continuous_update=False,\n",
    "                                                orientation='horizontal',\n",
    "                                                readout=True,\n",
    "                                                readout_format='.1f',\n",
    "                                            )\n",
    "    \n",
    "    # Display widget\n",
    "    display(float_slider_widget)\n",
    "    \n",
    "\n",
    "    def on_value_change(change): \n",
    "        # Appends to the dictionary answer\n",
    "        Answer_Dict[question].append(change[\"new\"])\n",
    "\n",
    "    float_slider_widget.observe(on_value_change, names='value')\n",
    "    \n",
    "    # Button Evaluator with arguments (desired_answer, frmt) | Fmrt is the format to evaluate like single item, list, dict, etc\n",
    "    button(question, start_time)  \n",
    "\n",
    "# FloatSlider(\"Q2\")"
   ]
  },
  {
   "cell_type": "markdown",
   "metadata": {},
   "source": [
    "## FloatLogSlider"
   ]
  },
  {
   "cell_type": "code",
   "execution_count": 19,
   "metadata": {},
   "outputs": [],
   "source": [
    "def FloatLogSlider(question):\n",
    "    start_time = time.time()\n",
    "    float_log_slider_widget = widgets.FloatLogSlider(\n",
    "                                                        value=5,\n",
    "                                                        base=10,\n",
    "                                                        min=-10, # max exponent of base\n",
    "                                                        max=10, # min exponent of base\n",
    "                                                        step=0.2, # exponent step\n",
    "                                                        description='Log Slider'\n",
    "                                                    )\n",
    "    \n",
    "    \n",
    "    display(float_log_slider_widget)\n",
    "    \n",
    "\n",
    "    def on_value_change(change):\n",
    "        # Appends to the dictionary answer\n",
    "        Answer_Dict[question].append(change[\"new\"])\n",
    "\n",
    "    float_log_slider_widget.observe(on_value_change, names='value')\n",
    "    \n",
    "    # Button Evaluator with arguments (desired_answer, frmt) | Fmrt is the format to evaluate like single item, list, dict, etc\n",
    "    button(question, start_time)\n",
    "\n",
    "# FloatLogSlider(\"Q1\")"
   ]
  },
  {
   "cell_type": "markdown",
   "metadata": {},
   "source": [
    "## BoundedIntText"
   ]
  },
  {
   "cell_type": "code",
   "execution_count": 20,
   "metadata": {},
   "outputs": [],
   "source": [
    "def BoundedIntText(question):\n",
    "    start_time = time.time()\n",
    "    widget = widgets.BoundedIntText(\n",
    "                            value=5,\n",
    "                            min=0,\n",
    "                            max=1000,\n",
    "                            step=1,\n",
    "                            description='Text:',\n",
    "                            disabled=False\n",
    "                          )\n",
    "    display(widget)\n",
    "    \n",
    "    def on_value_change(change):\n",
    "        # Appends to the dictionary answer\n",
    "        Answer_Dict[question].append(change[\"new\"])\n",
    "        \n",
    "    widget.observe(on_value_change, names='value')\n",
    "    \n",
    "    button(question, start_time)\n",
    "\n",
    "# BoundedIntText(\"Q2\", start_time=time.time())"
   ]
  },
  {
   "cell_type": "markdown",
   "metadata": {},
   "source": [
    "## BoundedFloatText"
   ]
  },
  {
   "cell_type": "code",
   "execution_count": 21,
   "metadata": {},
   "outputs": [],
   "source": [
    "def BoundedFloatText(question):\n",
    "    start_time = time.time()\n",
    "    widget = widgets.BoundedFloatText(\n",
    "                            value=5.0,\n",
    "                            min=0,\n",
    "                            max=15.0,\n",
    "                            step=1,\n",
    "                            description='Text:',\n",
    "                            disabled=False\n",
    "                          )\n",
    "    display(widget)\n",
    "    \n",
    "    def on_value_change(change):\n",
    "        # Appends to the dictionary answer\n",
    "        Answer_Dict[question].append(change[\"new\"])\n",
    "        \n",
    "    widget.observe(on_value_change, names='value')\n",
    "    \n",
    "    button(question, start_time)\n",
    "\n",
    "# BoundedFloatText(\"Q1\")"
   ]
  },
  {
   "cell_type": "markdown",
   "metadata": {},
   "source": [
    "## Dropdown"
   ]
  },
  {
   "cell_type": "code",
   "execution_count": 22,
   "metadata": {},
   "outputs": [],
   "source": [
    "def Dropdown(question, options=['...','1', '2', '3','4', '5', '6', '7', '8', '9', '10']):\n",
    "    start_time = time.time()\n",
    "    widget =  widgets.Dropdown(\n",
    "                                options=options,\n",
    "                                value= options[0],\n",
    "                                description='Answer: ',\n",
    "                                disabled=False,\n",
    "                            )\n",
    "    display(widget)\n",
    "    \n",
    "    def on_value_change(change):\n",
    "        # Appends to the dictionary answer\n",
    "        Answer_Dict[question].append(change[\"new\"])\n",
    "        \n",
    "    widget.observe(on_value_change, names='value')\n",
    "    \n",
    "    button(question, start_time)\n",
    "\n",
    "# Dropdown(\"Q1\")"
   ]
  },
  {
   "cell_type": "markdown",
   "metadata": {},
   "source": [
    "## Radio Buttons"
   ]
  },
  {
   "cell_type": "code",
   "execution_count": 23,
   "metadata": {
    "scrolled": false
   },
   "outputs": [],
   "source": [
    "def RadioButtons(question, options = ['1', '2', '3','4', '5']):\n",
    "    start_time = time.time()\n",
    "    widget =  widgets.RadioButtons(\n",
    "                                    options=options,\n",
    "                                    description='Answer:',\n",
    "                                    disabled=False\n",
    "                                )\n",
    "    display(widget)\n",
    "    \n",
    "    def on_value_change(change):\n",
    "        # Appends to the dictionary answer\n",
    "        Answer_Dict[question].append(change[\"new\"])\n",
    "        \n",
    "    widget.observe(on_value_change, names='value')\n",
    "    \n",
    "    button(question, start_time)\n",
    "\n",
    "# RadioButtons(\"Q1\", start_time=time.time())"
   ]
  },
  {
   "cell_type": "code",
   "execution_count": 24,
   "metadata": {},
   "outputs": [],
   "source": [
    "# Data Structure to shove (function,argument) tuple into into to be activated on a click. It's a bit weird, but it works. \n",
    "array_to_pass = []\n",
    "\n",
    "\n",
    "\n",
    "# Question Array\n",
    "question_array = []\n",
    "\n",
    "# Function to be put into the array_to_pass (Simple Example)\n",
    "def default_action(action):\n",
    "    print(action)\n",
    "    \n",
    "\n",
    "    \n",
    "def goButton(funct):\n",
    "    # Resets the array at the beginning to make sure other questions don't break it\n",
    "    array_to_pass = []\n",
    "    question_array = []\n",
    "    \n",
    "    # Appends the function and argument to the  \n",
    "    array_to_pass.append(funct)\n",
    "\n",
    "    # Create a new button\n",
    "    button = widgets.Button(description=\"Go!\", \n",
    "                           button_style='info',)\n",
    "    \n",
    "\n",
    "    \n",
    "    # Display button\n",
    "    display(button)\n",
    "\n",
    "    # Action for the event listener\n",
    "    def on_button_clicked(b):\n",
    "        \n",
    "        # Start time needs to be passed to the Submit button. \n",
    "        start_time = time.time()\n",
    "        \n",
    "        \n",
    "        \n",
    "        # Append start time to time_taken_array for later retrieval \n",
    "        funct()\n",
    "        \n",
    "    \n",
    "        \n",
    "    \n",
    "    # Event Listener Called on CLick\n",
    "    button.on_click(on_button_clicked)\n",
    "\n",
    "    \n",
    "#     return start_time\n",
    "\n",
    "# Pass a function with an \n",
    "# goButton(RBtn_1)"
   ]
  },
  {
   "cell_type": "code",
   "execution_count": 25,
   "metadata": {},
   "outputs": [],
   "source": [
    "def RBtn_1():\n",
    "    option = [\n",
    "        'Online payment system.',\n",
    "        'Locating the nearest coffee shop with a mobile app.',\n",
    "        \"Logging onto Netflix with your parent's account.\",\n",
    "        'Watching a movie on Netflix.',\n",
    "        'Browsing social media during the movie.',\n",
    "        'Giving someone directions in person.'\n",
    "    ]\n",
    "    st_time = time.time()\n",
    "    RadioButtons(\"Q1\", options=option)\n",
    "\n",
    "    \n",
    "# goBtn(\"Q1\", RBtn_1,\"Enter the Asn\")"
   ]
  },
  {
   "cell_type": "code",
   "execution_count": 26,
   "metadata": {},
   "outputs": [],
   "source": [
    "def RBtn_2():\n",
    "    option = [\n",
    "        'Video conference call through your computer.',\n",
    "        'Ordering food via mobile app.',\n",
    "        'Listening to your favorite music through a mobile app.',\n",
    "        'Completing an online tutorial successfully.',\n",
    "        'Using an ATM.',\n",
    "        'Paying for a meal with cash.'\n",
    "        \n",
    "    ]\n",
    "    RadioButtons(\"Q2\", options=option)\n",
    "\n",
    "    \n",
    "# RBtn_2()\n"
   ]
  },
  {
   "cell_type": "code",
   "execution_count": 27,
   "metadata": {},
   "outputs": [],
   "source": [
    "def RBtn_3():\n",
    "    option = [\n",
    "        'Purchasing a train ticket online',\n",
    "        'Purchasing a city bus ticket in person',\n",
    "        'Updating software on your computer',\n",
    "        'Purchasing groceries with a credit card',\n",
    "        \n",
    "    ]\n",
    "    RadioButtons(\"Q3\", options=option)\n",
    "\n",
    "    \n",
    "# RBtn_3()"
   ]
  },
  {
   "cell_type": "code",
   "execution_count": 28,
   "metadata": {},
   "outputs": [],
   "source": [
    "def Go1():\n",
    "    goButton(RBtn_1)\n",
    "    \n",
    "def Go2():\n",
    "    goButton(RBtn_2)\n",
    "    \n",
    "def Go3():\n",
    "    goButton(RBtn_3)"
   ]
  },
  {
   "cell_type": "markdown",
   "metadata": {},
   "source": [
    "## Select"
   ]
  },
  {
   "cell_type": "code",
   "execution_count": 29,
   "metadata": {},
   "outputs": [],
   "source": [
    "def Select(question, options = ['Linux', 'Windows', 'OSX']):\n",
    "    start_time = time.time()\n",
    "    widget =  widgets.Select( \n",
    "                                options=options,\n",
    "                                value='OSX',\n",
    "                                # rows=10,\n",
    "                                description='OS:',\n",
    "                                disabled=False\n",
    "                            )\n",
    "    display(widget)\n",
    "    \n",
    "    def on_value_change(change):\n",
    "        # Appends to the dictionary answer\n",
    "        Answer_Dict[question].append(change[\"new\"])\n",
    "        \n",
    "    widget.observe(on_value_change, names='value')\n",
    "    \n",
    "    button(question, start_time)\n",
    "\n",
    "# Select(\"Q1\")"
   ]
  },
  {
   "cell_type": "markdown",
   "metadata": {},
   "source": [
    "## Toggle Buttons"
   ]
  },
  {
   "cell_type": "code",
   "execution_count": 30,
   "metadata": {},
   "outputs": [],
   "source": [
    "def ToggleButtons(question, options = ['Slow', 'Regular', 'Fast']):\n",
    "    start_time = time.time()\n",
    "    widget =  widgets.ToggleButtons(\n",
    "                                    options=options,\n",
    "                                    description='Speed:',\n",
    "                                    disabled=False,\n",
    "                                    button_style='', # 'success', 'info', 'warning', 'danger' or ''\n",
    "                                    tooltips=['Description of slow', 'Description of regular', 'Description of fast'],\n",
    "                                #     icons=['check'] * 3\n",
    "                                )\n",
    "    display(widget)\n",
    "    \n",
    "    def on_value_change(change):\n",
    "        # Appends to the dictionary answer\n",
    "        Answer_Dict[question].append(change[\"new\"])\n",
    "        \n",
    "    widget.observe(on_value_change, names='value')\n",
    "    \n",
    "    button(question, start_time)\n",
    "\n",
    "# ToggleButtons(\"Q1\")"
   ]
  },
  {
   "cell_type": "markdown",
   "metadata": {},
   "source": [
    "## Select Multiple"
   ]
  },
  {
   "cell_type": "code",
   "execution_count": 31,
   "metadata": {},
   "outputs": [],
   "source": [
    "def SelectMultiple(question, options = ['1', '2', '3','4', '5']):\n",
    "    start_time = time.time()\n",
    "    widget =  widgets.SelectMultiple(\n",
    "                                        options=options,\n",
    "                                        value=['1'],\n",
    "                                        description='Answers',\n",
    "                                        disabled=False\n",
    "                                    )\n",
    "    display(widget)\n",
    "    \n",
    "    def on_value_change(change):\n",
    "        # Appends to the dictionary answer\n",
    "        Answer_Dict[question].append(change[\"new\"])\n",
    "        \n",
    "    widget.observe(on_value_change, names='value')\n",
    "    \n",
    "    button(question, start_time)\n",
    "\n",
    "# SelectMultiple(\"Q1\")"
   ]
  },
  {
   "cell_type": "markdown",
   "metadata": {},
   "source": [
    "## Plot Example for Eric\n"
   ]
  },
  {
   "cell_type": "code",
   "execution_count": 32,
   "metadata": {},
   "outputs": [],
   "source": [
    "def graph_widget(question):\n",
    "    x = np.linspace(0, 2 * np.pi)\n",
    "    fig = plt.figure()\n",
    "    ax = fig.add_subplot(1, 1, 1)\n",
    "    line, = ax.plot(x, np.sin(x))\n",
    "\n",
    "    def update(w = 1.0):\n",
    "        # Appends to the dictionary answer\n",
    "        Answer_Dict[question].append(w)\n",
    "        line.set_ydata(np.sin(w * x))\n",
    "        fig.canvas.draw()\n",
    "\n",
    "    # Button Evaluator with arguments (desired_answer, frmt) | Fmrt is the format to evaluate like single item, list, dict, etc\n",
    "    button(question)    \n",
    "\n",
    "    interact(update);\n",
    "    \n",
    "# graph_function(question='Q1')"
   ]
  },
  {
   "cell_type": "markdown",
   "metadata": {},
   "source": [
    "## Widget for Gateway Lesson"
   ]
  },
  {
   "cell_type": "code",
   "execution_count": 1,
   "metadata": {},
   "outputs": [],
   "source": [
    "# Toggle Buttons with three options (Country, state, zip code)\n",
    "\n",
    "def steps(question):\n",
    "    start_time = time.time()\n",
    "    stepOne = widgets.ToggleButtons(\n",
    "        options=['Find Data', 'Build App', 'Plan Out Project','Send App to Friends'],\n",
    "        description='Step 1',\n",
    "        disabled=False,\n",
    "        button_style='info', # 'success', 'info', 'warning', 'danger' or ''\n",
    "    )\n",
    "\n",
    "    stepTwo = widgets.ToggleButtons(\n",
    "        options=['Deploy App', 'Choose an Algorithm', 'Build App','Find Data'],\n",
    "        description='Step 2',\n",
    "        disabled=False,\n",
    "        button_style='info', # 'success', 'info', 'warning', 'danger' or ''\n",
    "    )\n",
    "\n",
    "    stepThree = widgets.ToggleButtons(\n",
    "        options=['Build App', 'Plan Out Project', 'Test App', 'Choose an Algorithm'],\n",
    "        description='Step 3',\n",
    "        disabled=False,\n",
    "        button_style='info', # 'success', 'info', 'warning', 'danger' or ''\n",
    "    )\n",
    "\n",
    "    stepFour = widgets.ToggleButtons(\n",
    "        options=['Plan Out Project', 'Build App', 'Choose an Algorithm', 'Find Data'],\n",
    "        description='Step 4',\n",
    "        disabled=False,\n",
    "        button_style='info', # 'success', 'info', 'warning', 'danger' or ''\n",
    "    )\n",
    "\n",
    "    display(stepOne,stepTwo,stepThree, stepFour)\n",
    "\n",
    "\n",
    "    def on_value_change(change):\n",
    "        # We have to evaluate all 4 at once to make sure they have the right answers\n",
    "        Answer_Dict[question].append(str([stepOne.value, stepTwo.value, stepThree.value, stepFour.value]))\n",
    "\n",
    "\n",
    "    stepOne.observe(on_value_change, names='value')\n",
    "    stepTwo.observe(on_value_change, names='value')\n",
    "    stepThree.observe(on_value_change, names='value')\n",
    "    stepFour.observe(on_value_change, names='value')\n",
    "\n",
    "\n",
    "    button(question, start_time)\n",
    "    "
   ]
  }
 ],
 "metadata": {
  "kernelspec": {
   "display_name": "Python 3",
   "language": "python",
   "name": "python3"
  },
  "language_info": {
   "codemirror_mode": {
    "name": "ipython",
    "version": 3
   },
   "file_extension": ".py",
   "mimetype": "text/x-python",
   "name": "python",
   "nbconvert_exporter": "python",
   "pygments_lexer": "ipython3",
   "version": "3.7.0"
  }
 },
 "nbformat": 4,
 "nbformat_minor": 2
}
